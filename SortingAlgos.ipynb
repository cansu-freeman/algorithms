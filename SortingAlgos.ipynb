{
 "cells": [
  {
   "cell_type": "markdown",
   "metadata": {},
   "source": [
    "# Sorting Algorithms in Python\n",
    "\n",
    "In this notebook:\n",
    "\n",
    "- Selection Sort\n",
    "- Insertion Sort\n",
    "- Shell Sort\n",
    "- Merge Sort\n",
    "- Top-Down Merge Sort\n",
    "- Bottom-Up Merge Sort\n",
    "- Quick Sort\n",
    "- Quick Sort Partitioning\n",
    "- Priority-Queue Client\n",
    "- Heap Priority Queue\n",
    "- Multi-way Merge Priority Queue Client\n",
    "- Heapsort"
   ]
  },
  {
   "cell_type": "markdown",
   "metadata": {},
   "source": [
    "## Selection Sort\n",
    "\n",
    "The selection sorting algorithm simply finds the smallest value in an array, puts that value in the first position, then finds the next smallest value and exchanges with the second position, and so on. \n",
    "\n",
    "We are going to sort the string 'sortexample' into ABC order. And then we will do a random list of numbers."
   ]
  },
  {
   "cell_type": "code",
   "execution_count": 32,
   "metadata": {},
   "outputs": [],
   "source": [
    "def selection_sort(a):\n",
    "    n = len(a)\n",
    "    \n",
    "    for i in range(n):\n",
    "        min = i\n",
    "        for j in range(i+1, n):\n",
    "            if a[j] < a[min]:\n",
    "                min = j\n",
    "                \n",
    "        (a[i], a[min]) = (a[min], a[i])\n",
    "        print(i, a)"
   ]
  },
  {
   "cell_type": "markdown",
   "metadata": {},
   "source": [
    "We must first convert our string into a list since strings are immutable and you can't change parts of them. You can see below that the algorithm is able to sort the string by the 7th interation (i=6). And for the longer numerical example, it takes i=20 iterations."
   ]
  },
  {
   "cell_type": "code",
   "execution_count": 33,
   "metadata": {},
   "outputs": [
    {
     "name": "stdout",
     "output_type": "stream",
     "text": [
      "0 ['a', 'o', 'r', 't', 'e', 'x', 's', 'm', 'p', 'l', 'e']\n",
      "1 ['a', 'e', 'r', 't', 'o', 'x', 's', 'm', 'p', 'l', 'e']\n",
      "2 ['a', 'e', 'e', 't', 'o', 'x', 's', 'm', 'p', 'l', 'r']\n",
      "3 ['a', 'e', 'e', 'l', 'o', 'x', 's', 'm', 'p', 't', 'r']\n",
      "4 ['a', 'e', 'e', 'l', 'm', 'x', 's', 'o', 'p', 't', 'r']\n",
      "5 ['a', 'e', 'e', 'l', 'm', 'o', 's', 'x', 'p', 't', 'r']\n",
      "6 ['a', 'e', 'e', 'l', 'm', 'o', 'p', 'x', 's', 't', 'r']\n",
      "7 ['a', 'e', 'e', 'l', 'm', 'o', 'p', 'r', 's', 't', 'x']\n",
      "8 ['a', 'e', 'e', 'l', 'm', 'o', 'p', 'r', 's', 't', 'x']\n",
      "9 ['a', 'e', 'e', 'l', 'm', 'o', 'p', 'r', 's', 't', 'x']\n",
      "10 ['a', 'e', 'e', 'l', 'm', 'o', 'p', 'r', 's', 't', 'x']\n"
     ]
    }
   ],
   "source": [
    "example = list('sortexample')\n",
    "selection_sort(example)"
   ]
  },
  {
   "cell_type": "code",
   "execution_count": 34,
   "metadata": {},
   "outputs": [
    {
     "name": "stdout",
     "output_type": "stream",
     "text": [
      "0 [2, 543, 432, 12, 3, 5, 7, 42, 3, 4, 21, 34, 65, 2345, 986, 42, 5, 4, 2, 98, 5, 6]\n",
      "1 [2, 2, 432, 12, 3, 5, 7, 42, 3, 4, 21, 34, 65, 2345, 986, 42, 5, 4, 543, 98, 5, 6]\n",
      "2 [2, 2, 3, 12, 432, 5, 7, 42, 3, 4, 21, 34, 65, 2345, 986, 42, 5, 4, 543, 98, 5, 6]\n",
      "3 [2, 2, 3, 3, 432, 5, 7, 42, 12, 4, 21, 34, 65, 2345, 986, 42, 5, 4, 543, 98, 5, 6]\n",
      "4 [2, 2, 3, 3, 4, 5, 7, 42, 12, 432, 21, 34, 65, 2345, 986, 42, 5, 4, 543, 98, 5, 6]\n",
      "5 [2, 2, 3, 3, 4, 4, 7, 42, 12, 432, 21, 34, 65, 2345, 986, 42, 5, 5, 543, 98, 5, 6]\n",
      "6 [2, 2, 3, 3, 4, 4, 5, 42, 12, 432, 21, 34, 65, 2345, 986, 42, 7, 5, 543, 98, 5, 6]\n",
      "7 [2, 2, 3, 3, 4, 4, 5, 5, 12, 432, 21, 34, 65, 2345, 986, 42, 7, 42, 543, 98, 5, 6]\n",
      "8 [2, 2, 3, 3, 4, 4, 5, 5, 5, 432, 21, 34, 65, 2345, 986, 42, 7, 42, 543, 98, 12, 6]\n",
      "9 [2, 2, 3, 3, 4, 4, 5, 5, 5, 6, 21, 34, 65, 2345, 986, 42, 7, 42, 543, 98, 12, 432]\n",
      "10 [2, 2, 3, 3, 4, 4, 5, 5, 5, 6, 7, 34, 65, 2345, 986, 42, 21, 42, 543, 98, 12, 432]\n",
      "11 [2, 2, 3, 3, 4, 4, 5, 5, 5, 6, 7, 12, 65, 2345, 986, 42, 21, 42, 543, 98, 34, 432]\n",
      "12 [2, 2, 3, 3, 4, 4, 5, 5, 5, 6, 7, 12, 21, 2345, 986, 42, 65, 42, 543, 98, 34, 432]\n",
      "13 [2, 2, 3, 3, 4, 4, 5, 5, 5, 6, 7, 12, 21, 34, 986, 42, 65, 42, 543, 98, 2345, 432]\n",
      "14 [2, 2, 3, 3, 4, 4, 5, 5, 5, 6, 7, 12, 21, 34, 42, 986, 65, 42, 543, 98, 2345, 432]\n",
      "15 [2, 2, 3, 3, 4, 4, 5, 5, 5, 6, 7, 12, 21, 34, 42, 42, 65, 986, 543, 98, 2345, 432]\n",
      "16 [2, 2, 3, 3, 4, 4, 5, 5, 5, 6, 7, 12, 21, 34, 42, 42, 65, 986, 543, 98, 2345, 432]\n",
      "17 [2, 2, 3, 3, 4, 4, 5, 5, 5, 6, 7, 12, 21, 34, 42, 42, 65, 98, 543, 986, 2345, 432]\n",
      "18 [2, 2, 3, 3, 4, 4, 5, 5, 5, 6, 7, 12, 21, 34, 42, 42, 65, 98, 432, 986, 2345, 543]\n",
      "19 [2, 2, 3, 3, 4, 4, 5, 5, 5, 6, 7, 12, 21, 34, 42, 42, 65, 98, 432, 543, 2345, 986]\n",
      "20 [2, 2, 3, 3, 4, 4, 5, 5, 5, 6, 7, 12, 21, 34, 42, 42, 65, 98, 432, 543, 986, 2345]\n",
      "21 [2, 2, 3, 3, 4, 4, 5, 5, 5, 6, 7, 12, 21, 34, 42, 42, 65, 98, 432, 543, 986, 2345]\n"
     ]
    }
   ],
   "source": [
    "numerical_ex = [2,543,432,12,3,5,7,42,3,4,21,34,65,2345,986,42,5,4,2,98,5,6]\n",
    "selection_sort(numerical_ex)"
   ]
  },
  {
   "cell_type": "markdown",
   "metadata": {},
   "source": [
    "## Insertion Sort\n",
    "\n",
    "The first element a[0], in the array is assumed to be sorted, so we will take the second element a[1], and store it as a 'key'. Then we take the third value and compare it to the values to the left of it and place it accordingly. Insertion short is slow for large unordered arrays because the only exchanges involves adjacent items. If the smallest item happens to be at the end of the array, n-1 exchanges will be needed to get that item in the right place. I demo this in numerical example below."
   ]
  },
  {
   "cell_type": "code",
   "execution_count": 37,
   "metadata": {},
   "outputs": [],
   "source": [
    "def insertion_sort(a):\n",
    "    n = len(a)\n",
    "    \n",
    "    for i in range(1, n):\n",
    "        j = i-1\n",
    "        key = a[i]\n",
    "        while j >= 0 and key < a[j]:\n",
    "            a[j+1] = a[j]\n",
    "            j-=1\n",
    "        a[j+1] = key\n",
    "    \n",
    "        print(i, a) "
   ]
  },
  {
   "cell_type": "markdown",
   "metadata": {},
   "source": [
    "Below we can see that it took 11 iterations (i=10) to sort the string and 22 iterations to sort the numbers. The selection sort algorithm was a bit faster."
   ]
  },
  {
   "cell_type": "code",
   "execution_count": 39,
   "metadata": {},
   "outputs": [
    {
     "name": "stdout",
     "output_type": "stream",
     "text": [
      "1 ['o', 's', 'r', 't', 'e', 'x', 'a', 'm', 'p', 'l', 'e']\n",
      "2 ['o', 'r', 's', 't', 'e', 'x', 'a', 'm', 'p', 'l', 'e']\n",
      "3 ['o', 'r', 's', 't', 'e', 'x', 'a', 'm', 'p', 'l', 'e']\n",
      "4 ['e', 'o', 'r', 's', 't', 'x', 'a', 'm', 'p', 'l', 'e']\n",
      "5 ['e', 'o', 'r', 's', 't', 'x', 'a', 'm', 'p', 'l', 'e']\n",
      "6 ['a', 'e', 'o', 'r', 's', 't', 'x', 'm', 'p', 'l', 'e']\n",
      "7 ['a', 'e', 'm', 'o', 'r', 's', 't', 'x', 'p', 'l', 'e']\n",
      "8 ['a', 'e', 'm', 'o', 'p', 'r', 's', 't', 'x', 'l', 'e']\n",
      "9 ['a', 'e', 'l', 'm', 'o', 'p', 'r', 's', 't', 'x', 'e']\n",
      "10 ['a', 'e', 'e', 'l', 'm', 'o', 'p', 'r', 's', 't', 'x']\n"
     ]
    }
   ],
   "source": [
    "example = list('sortexample')\n",
    "insertion_sort(example)"
   ]
  },
  {
   "cell_type": "code",
   "execution_count": 28,
   "metadata": {},
   "outputs": [
    {
     "name": "stdout",
     "output_type": "stream",
     "text": [
      "18 [1, 2, 3, 3, 4, 5, 5, 6, 7, 12, 21, 34, 42, 65, 98, 432, 543, 986, 2345]\n"
     ]
    }
   ],
   "source": [
    "numerical_ex = [2,543,432,12,3,5,7,42,3,4,21,34,65,2345,986,98,5,6, 1]\n",
    "insertion_sort(numerical_ex)"
   ]
  },
  {
   "cell_type": "markdown",
   "metadata": {},
   "source": [
    "## Shell Sort\n",
    "Shellsort is a version of insertion short that allows for exchanges of entries that are not adjacent in a list/array. We split the array by taking every h-entry and sort that subsequence. "
   ]
  },
  {
   "cell_type": "code",
   "execution_count": 23,
   "metadata": {},
   "outputs": [],
   "source": [
    "def shell_sort(a, div):\n",
    "    n = len(a)\n",
    "    h = n//div\n",
    "    \n",
    "    while h > 0:\n",
    "        for i in range(h, n):\n",
    "            j = i\n",
    "            key = a[i]\n",
    "            \n",
    "            while j >= h and a[j-h] > key:\n",
    "                a[j] = a[j-h]\n",
    "                j-=h\n",
    "            \n",
    "            a[j] = key\n",
    "\n",
    "        h = h//div\n",
    "    print(i, a)"
   ]
  },
  {
   "cell_type": "code",
   "execution_count": 36,
   "metadata": {},
   "outputs": [
    {
     "name": "stdout",
     "output_type": "stream",
     "text": [
      "15 ['a', 'e', 'e', 'e', 'h', 'l', 'l', 'l', 'm', 'o', 'p', 'r', 's', 's', 't', 'x']\n"
     ]
    }
   ],
   "source": [
    "example = list('shellsortexample')\n",
    "shell_sort(example, 3)"
   ]
  },
  {
   "cell_type": "code",
   "execution_count": 25,
   "metadata": {},
   "outputs": [
    {
     "name": "stdout",
     "output_type": "stream",
     "text": [
      "21 [2, 2, 3, 3, 4, 4, 5, 5, 5, 6, 7, 12, 21, 34, 42, 42, 65, 98, 432, 543, 986, 2345]\n"
     ]
    }
   ],
   "source": [
    "numerical_ex = [2,543,432,12,3,5,7,42,3,4,21,34,65,2345,986,42,5,4,2,98,5,6]\n",
    "shell_sort(numerical_ex, 2)"
   ]
  },
  {
   "cell_type": "markdown",
   "metadata": {},
   "source": [
    "## Merge Sort"
   ]
  },
  {
   "cell_type": "code",
   "execution_count": null,
   "metadata": {},
   "outputs": [],
   "source": []
  }
 ],
 "metadata": {
  "kernelspec": {
   "display_name": "Python 3 (ipykernel)",
   "language": "python",
   "name": "python3"
  },
  "language_info": {
   "codemirror_mode": {
    "name": "ipython",
    "version": 3
   },
   "file_extension": ".py",
   "mimetype": "text/x-python",
   "name": "python",
   "nbconvert_exporter": "python",
   "pygments_lexer": "ipython3",
   "version": "3.9.10+"
  }
 },
 "nbformat": 4,
 "nbformat_minor": 2
}
